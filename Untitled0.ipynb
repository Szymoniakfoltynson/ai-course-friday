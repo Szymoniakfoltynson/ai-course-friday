{
  "nbformat": 4,
  "nbformat_minor": 0,
  "metadata": {
    "colab": {
      "provenance": [],
      "authorship_tag": "ABX9TyOkCU6dfmaCku9u2mPTxwpv",
      "include_colab_link": true
    },
    "kernelspec": {
      "name": "python3",
      "display_name": "Python 3"
    },
    "language_info": {
      "name": "python"
    }
  },
  "cells": [
    {
      "cell_type": "markdown",
      "metadata": {
        "id": "view-in-github",
        "colab_type": "text"
      },
      "source": [
        "<a href=\"https://colab.research.google.com/github/Szymoniakfoltynson/ai-course-friday/blob/main/Untitled0.ipynb\" target=\"_parent\"><img src=\"https://colab.research.google.com/assets/colab-badge.svg\" alt=\"Open In Colab\"/></a>"
      ]
    },
    {
      "cell_type": "code",
      "execution_count": null,
      "metadata": {
        "id": "GZynuOTnGsoE"
      },
      "outputs": [],
      "source": []
    },
    {
      "cell_type": "code",
      "source": [
        "1 import numpy as np\n",
        "2\n",
        "3 array = np. array([1,2,3,4,5,6,7,8,9,10])\n",
        "4\n",
        "5 print(array)\n",
        "6 print(np.shape(array))\n"
      ],
      "metadata": {
        "id": "PsPCH7YVMuK-"
      },
      "execution_count": null,
      "outputs": []
    },
    {
      "cell_type": "code",
      "source": [
        "1 array 2x6 = array.reshape(2,6)\n",
        "2 print(array)\n",
        "3 print(np.shape(array2x6))\n",
        "\n",
        "\n"
      ],
      "metadata": {
        "id": "KSUvZy_-QrNj"
      },
      "execution_count": null,
      "outputs": []
    },
    {
      "cell_type": "code",
      "source": [
        "1 array3x4 = array.reshape(3,4)\n",
        "2 array2x2x3 = array.reshape(2,2,3)"
      ],
      "metadata": {
        "colab": {
          "base_uri": "https://localhost:8080/",
          "height": 106
        },
        "id": "7c5MXE28RehO",
        "outputId": "ac23caf8-0f11-43a4-9b5a-293a68f87b94"
      },
      "execution_count": 1,
      "outputs": [
        {
          "output_type": "error",
          "ename": "SyntaxError",
          "evalue": "invalid syntax (ipython-input-2439588522.py, line 1)",
          "traceback": [
            "\u001b[0;36m  File \u001b[0;32m\"/tmp/ipython-input-2439588522.py\"\u001b[0;36m, line \u001b[0;32m1\u001b[0m\n\u001b[0;31m    1 array3x4 = array.reshape(3,4)\u001b[0m\n\u001b[0m      ^\u001b[0m\n\u001b[0;31mSyntaxError\u001b[0m\u001b[0;31m:\u001b[0m invalid syntax\n"
          ]
        }
      ]
    },
    {
      "cell_type": "code",
      "source": [
        "1 zagadka1=array.reshape(-1)\n",
        "2 print(\"zagadka1\")\n",
        "3 print(zagadka1)\n",
        "4. print(f\"Shape of zagadka1: (np.shape(zagadka))\")"
      ],
      "metadata": {
        "id": "HeQYPYS2R25N"
      },
      "execution_count": null,
      "outputs": []
    },
    {
      "cell_type": "code",
      "source": [
        "1 zagadka2=array.reshape(6,1)\n",
        "2 print(\"zagadka2\")\n",
        "3 print(zagadka2)\n",
        "4. print(f\"Shape of zagadka2: (np.shape(zagadka))\")\n",
        "\n",
        "zagadka2\n",
        "[[ 1 2]\n",
        " [ 3 4]\n",
        " [ 5 6]\n",
        " [ 7 8]\n",
        " [ 9 10]]\n",
        "Shape of zagadka2: (6, 2)"
      ],
      "metadata": {
        "id": "nhLQo93aSjLT"
      },
      "execution_count": null,
      "outputs": []
    },
    {
      "cell_type": "code",
      "source": [
        "1 unsorted1D = np.array([3,6,2,4]) # 2, 3, 4, 6\n",
        "2 sorted1D = np.sort(unsorted1D)\n",
        "3"
      ],
      "metadata": {
        "id": "ZtUwna6vTxrn"
      },
      "execution_count": null,
      "outputs": []
    },
    {
      "cell_type": "code",
      "source": [
        "1 unsorted2D = np.array([[7, 2, 9],\n",
        "2                         [4, 8, 1],\n",
        "3                         [5, 6, 3]])\n",
        "4\n",
        "5 np.sort(unsorted2D, axis = 1)"
      ],
      "metadata": {
        "id": "7gcXwgZwVTvJ"
      },
      "execution_count": null,
      "outputs": []
    },
    {
      "cell_type": "code",
      "source": [
        "1 players data = np.array([\n",
        "2 (\"Faker\", \"T1\", 5)\n",
        "3 (\"TheShy\", \"Weibo Gaming\", 1),\n",
        "4 (\"Uzi\", \"Emerytowany\", 0),\n",
        "5 (\"Ruler\", \"JD Gaming\", 1),\n",
        "6 (\"Doinb\", \"Emerytowany\", 1),\n",
        "7 (\"Rekkles\", \"Los Ratones\" 1),\n",
        "8 (\"Caps\", \"G2 Esports\", 0),\n",
        "9 ], dtype= [('Nick', 'U30'), ('Team', 'U30'), ('Worlds Title Count', i4)])\n",
        ""
      ],
      "metadata": {
        "id": "XtilVjr1Wah1"
      },
      "execution_count": null,
      "outputs": []
    },
    {
      "cell_type": "markdown",
      "source": [],
      "metadata": {
        "id": "gvh5uVG7ZUic"
      }
    },
    {
      "cell_type": "code",
      "source": [
        "1 print(np.sort(players_data, order='Worlds Title Count'))"
      ],
      "metadata": {
        "id": "NQ7c2iMhZFV7"
      },
      "execution_count": null,
      "outputs": []
    },
    {
      "cell_type": "code",
      "source": [],
      "metadata": {
        "id": "H05l2A5-ZSS6"
      },
      "execution_count": null,
      "outputs": []
    }
  ]
}